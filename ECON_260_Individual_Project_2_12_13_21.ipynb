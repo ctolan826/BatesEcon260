{
  "nbformat": 4,
  "nbformat_minor": 0,
  "metadata": {
    "colab": {
      "name": "ECON 260 Individual Project #2 12.13.21.ipynb",
      "provenance": [],
      "authorship_tag": "ABX9TyP32SgJS68cln7JDJwi7qyd",
      "include_colab_link": true
    },
    "kernelspec": {
      "name": "python3",
      "display_name": "Python 3"
    },
    "language_info": {
      "name": "python"
    }
  },
  "cells": [
    {
      "cell_type": "markdown",
      "metadata": {
        "id": "view-in-github",
        "colab_type": "text"
      },
      "source": [
        "<a href=\"https://colab.research.google.com/github/ctolan826/BatesEcon260/blob/master/ECON_260_Individual_Project_2_12_13_21.ipynb\" target=\"_parent\"><img src=\"https://colab.research.google.com/assets/colab-badge.svg\" alt=\"Open In Colab\"/></a>"
      ]
    },
    {
      "cell_type": "markdown",
      "metadata": {
        "id": "Vrh2C-pZ7Wy0"
      },
      "source": [
        "Celia Tolan \\\\\n",
        "ECON 260 Intermediate Microeconomic Theory \\\\\n",
        "Individual Project #2 \\\\\n",
        "December 13th, 2021"
      ]
    },
    {
      "cell_type": "markdown",
      "source": [
        "**Introduction** \n",
        "\n",
        "Freeport Maine is one of Maine's best and most well know shopping centers. While on vacation, many people visit Freeport to go shopping. In the shopping center, there are two stores that provide similar products. Both of the companies *Patagonia* and *LL Bean* sell similar products. \n",
        "\n",
        "With both clothing stores located in Maine, there is an especially high demand in winter coats than other store locations. This is because Maine is notorious for being a cold state and needing many layers and warm coats in the winter. Additionally, both companies guarantee high sustainability in all of their clothes and offer similar outdoor apparel like snow jackets. \n",
        "\n",
        "In the retail industry, on a weekly basis, clothing stores typically have set goals they want to achieve in how much of a product they intend to sell. More specifically, during holidays like Black Friday, Labor Day and Memorial Day weekend, and Christmas there are certain sale goals they try to make. In this scenario, we will be looking at how Patagonia and LL Bean chooses to stock their winter jacket inventory for Labor Day Weekend. With LL Bean and Patagonia being very close in proximity to each other in Freeport and offering similar things, both stores want to base their quanitity of apparel they order off of the quanity they expect their competitor to produce. \n",
        "\n",
        "In order to determine what quantity of winter jackets they want to produce, the two companies can use *Cournot's Model*. Cournot's model is a game theory model that helps determines the Nash Equilibrium in terms of quantity for two competing, profit maximizing firms. Using the Cournot's model, we can determine what the optimal quantities of both companies will be, given the expected quantity their competitor will be producing. \n",
        "\n",
        "Additionally, if we focus on the clothing quantity and sales from Labor Day weekend for Patagonia and LL Bean, in order to better understand the relationship between the two companies, we can use comparative statics and the market demand curve for winter coats. This will help us better understand where these optimal quantities and assumptions come from, and whether the two companies would likely continue to produce jackets at the same quantity during the other holidays. Understanding the relationship between optimal quantity and the demand and cost curves can help Patagonia and LL Bean determine if/when they should increase the quantity of winter jackets to produce. \n",
        "\n",
        "Using the Cournot's model will look into both Labor Day optimal quanitities for production at both Patagonia and LL Bean, as well as looking into how those optimal quanities have led to a shortage of winter coats for every big holiday in Freeport, Maine. The purpose of the study is to answer the following questions: \n",
        "\n",
        "*Given the market demand curve for winter coats in Maine, what quantity of coats should each company stock? Also, should they continue producing coats at those quantity in subsequent holidays despite the resulting shortage of coats?* "
      ],
      "metadata": {
        "id": "w0L6xY7sHfqT"
      }
    },
    {
      "cell_type": "markdown",
      "source": [
        "In order to determine the profit maximizing quantities for Patagonia and LL Bean, we will be using the Cournot's model. \n",
        "\n",
        "In the model, we will assign profit as \n",
        "\n",
        "\\begin{align*}\n",
        "\\pi_i = p(q_i, q_j) * q_i - C_i(q_i)\n",
        "\\end{align*}\n",
        "\n",
        "For  i = x, y\n",
        "\n",
        "Also, in this case x and y will represent Patagonia and LL Bean, respectively, and their corresponding quantities, prices, and profits.\n",
        "\n",
        "Additionally, we assume that the market inverse demand function for coats is:    \n",
        "\n",
        "\\begin{align*}\n",
        "p(q_x, q_y) = a - b(q_x + q_y)\n",
        "\\end{align*}\n",
        "\n",
        "Both also have identical costs:     \n",
        "\n",
        "\\begin{align*}\n",
        "C_x(q_x) = c * q_x\\\\\n",
        "C_y(q_y) = c * q_y \n",
        "\\end{align*}\n",
        "\n",
        "For a, b, and c are all positive coefficients where:\n",
        "\n",
        "*a* represent the y-intercept, or the quantity demanded when price is zero\n",
        "\n",
        "*b* represents the slope of the inverse demand curve\n",
        "\n",
        "*c* represents the marginal cost of producing one more unit of inventory. \n",
        "\n",
        "Using these functions, we can set up the profit maximizing problem as:    \n",
        "\n",
        "\\begin{align*}\n",
        "max\\pi{_i{q_i}} = (a - b(q_i + \\hat{q_j})) * q_i - c * q_i \n",
        "\\end{align*}\n",
        "\n",
        "For i = x, y and q^_j is the assumed quantity each clothing store assumes its competitor will produce. \n",
        "\n",
        "This function can also be rewritten as:    \n",
        "\n",
        "\\begin{align*}\n",
        "aq_i - bq_i^2 + bq_i\\hat{q_j} - cq_i \n",
        "\\end{align*} \n",
        "\n",
        "Finally, you can use this newly written expression to find the FOC's for this problem:    \n",
        "\\begin{align*}\n",
        "\\frac{\\partial \\pi_i}{\\partial q_i} = a - 2bq_i - b\\hat{q_j} - c = 0\n",
        "\\end{align*}\n",
        "\n",
        "To solve for q*_i(q^_j), or the optimal quantity each company should produce if they assume their competitior will produce q^_j. We can rewrite the FOC to get:    \n",
        "\\begin{align*}\n",
        "0 = a - 2bq_i - b\\hat{q_j} - c\\\\ \n",
        "2bq_i = a - b\\hat{q_j} - c\\\\ \n",
        "q_i = \\frac{a - b\\hat{q_j} - c}{2b}\\\\ \n",
        "q_i = \\frac{a-c}{2b} - \\frac{b\\hat{q_j}}{2b}\\\\ \n",
        "q_i^*(\\hat{q_j}) = \\frac{a - c}{2b} - \\frac{\\hat{q_j}}{2}\n",
        "\\end{align*}"
      ],
      "metadata": {
        "id": "YYtfO4nRfzJj"
      }
    },
    {
      "cell_type": "markdown",
      "source": [
        "Given that one of the condition of the Cournot's model is the assumption both companies make about each other, q^_j, are correct, and given both Patagonia and LL Bean have identical cost functions C_i(q_i) = c * q_i for i = x, y, we can determine the optimal quantity of winter coats that each firm should produce for Labor Day, by plugging in q*_j(q^_j) for q^_j in the equation for optimal quantity, q*_i(q^_j). \n",
        "\n",
        "\\begin{align*}\n",
        "q_i^*(\\hat{q_j}) = \\frac{a -c}{2b} - \\frac{1}{2} (\\frac{a-c}{2b} - \\frac{q_i}{2})\\\\ \n",
        "q_i^* = \\frac{1}{2} * (\\frac{a -c}{2b}) + \\frac{1}{2}(\\frac{q_i^*}{2})\\\\ \n",
        "q_i^* = \\frac{a - c}{4b} + \\frac{q_i^*}{4}\\\\ \n",
        "\\frac{3}{4}q_i^* = \\frac{a - c}{4b}\\\\ \n",
        "q_i^* = \\frac{a - c}{3b}\n",
        "\\end{align*}\n",
        "\n",
        "For i = x, y\n",
        "\n",
        "These two figures give the optimal quantities q_x^* = a-c/3b and q_y^* = a-c/3b given the coefficients of the demand and cost curves: a, b, and c, and given a correct assumption about the quantity the other firms will be producing inventory at. "
      ],
      "metadata": {
        "id": "TZqb5Co5kHDd"
      }
    },
    {
      "cell_type": "markdown",
      "source": [
        "**Analysis** \n",
        "\n",
        "*Effects of a Change in Quantity Produced on Market Price* \n",
        "\n",
        "The quantities q_x^* = a-c/3b and q_y^* = a-c/3b give the quantities that Patagonia and LL Bean, respectively will stock for Labor Day, but will both companies continue operating at this quantity for future holidays? \n",
        "\n",
        "We can first determine if the quantity stocked should change for future holidays, if other factors of production and demand are held constant using the following example:    \n",
        "\n",
        "Patagonia and LL Bean, with only a street separating the two stores from each other, have been in competition with each other for many years. Often during the holidays, the stores hold sales, which then result in both stores running out of inventory quickly before the day is over. \n",
        "\n",
        "With two competing companies within close proximity of each other, the question to ask is: *Are the two companies still optimizing their profit, and why then would they not stock more winter coats during the holidays to account for this shortage?*\n",
        "\n",
        "To understand the conditions under why these companies would choose to stock a quantity at which they continuously run out of stock, we can return back to the initial Labor Day Cournot's model. \n",
        "\n",
        "Suppose both Patagonia and LL Bean quickly run out of stock for Labor Day, yet for Black Friday both companies decide to still stock the same amount of inventory as on Labor Day. \n",
        "\n",
        "From this, we can assume that the firms are operating in Nash Equilibrium relative to their competitor and therefore correctly assuming the ideal profit maximizing the inventory stock in relation to the amount that the other produces. How can this be true? \n",
        "\n",
        "Suppose Patagonia increases their stock in order to address this shortage. Looking at the demand function, an increase in the quantity q_x will decrease and the market price for winter coats. \n",
        "\n",
        "Derivative of price with respect to quantity\n",
        "\n",
        "\\begin{align*}\n",
        "p(q_x, q_y) = a -b(q_x + q_y)\\\\ \n",
        "\\frac{\\partial p(q_x, q_y)}{\\partial q_x} = -b\n",
        "\\end{align*}\n",
        "\n",
        "In the short run, Patagonia may increase their profits through this increase in production, but eventually this change will be reflected in a decreased price, and overall decreased profits. \n",
        "\n",
        "The extent to which the increased quantity will decrease market price depends on b, or the slope of the demand curve. Because b represents the elasticity of the inverse demand curve for stock of winter jackets, if it has a larger value, and thus the slope of the inverse demand is steeper, a change in quantity will have a greater impact on price. If b has a lesser value, essentially representing a shallower slope, this change in quantity will have less of an effect on price. "
      ],
      "metadata": {
        "id": "OERkMqhvmwwH"
      }
    },
    {
      "cell_type": "markdown",
      "source": [
        "**The Potential Death Spiral of an Increased Quantity - The Prisoner's Dilemma** \n",
        "\n",
        "If Patagonia increases their stock, it will result in a decrease in the price because there will be more stock available to the consumers, making the item less desired. This decrease in price will be further exacerbated given the likely response of LL Bean, who will also likely decide to also increase their stock in inventory. They would choose to do this because they will also be subjected to the decreased market price for jackets, and if they don't raise their quantity in response, they will have no way to compensate for the price effect. \n",
        "\n",
        "With both companies continuing to increase the amount of stock, overtime this will ultimately create a downwards spirl for both companies. This \"downwards spiral\" of both companies is the same conclusion you get from something called *Prisoner's dilemma* Prisoner's dilemma is when there are multiple individuals trying to make decisions and one individual ends up making a decision that essentially results in a less than optimal outcome for all parties involved. If Patagonia individually increases their stock of winter coats, it lowers the market price for winter coats, making LL Bean feel obligated to increase their stock in order to compensate for the price effect, and ultimately results in both companies losing profits from an increase in the quantity of coats they need to stock but a decrease in the market value of the winter coats. Therefore the scenario just described demonstrates Prisoner's dilemma where Patagonia essentially made an indivudal decision, which resulted in a less than ideal outcome for both competing clothing compaines. \n",
        "\n",
        "If a one unit change *q_x* leads to a decrease in price of *-b*, and if you assume that LL Bean will respond as described above, this will result in a decrease in price at a rate that is twice as high. This can be found by plugging in q_x for q_y, to represent an equal change in both companies stock. \n",
        "\n",
        "\\begin{align*}\n",
        "p(q_x,q_y) = a - b(2q_x)\\\\ \n",
        "\\frac{\\partial p(q_x, q_y)}{\\partial q_x} = -2b\n",
        "\\end{align*}\n",
        "\n",
        "Therefore, should all other factors of demand and production costs be held constant, it would be in the best interest of the two firms to continue producing at a shortage of inventory. "
      ],
      "metadata": {
        "id": "n5uOketlri8g"
      }
    },
    {
      "cell_type": "markdown",
      "source": [
        "**Effects of a Change in Production Cost on Optimal Quantity** \n",
        "\n",
        "But what would happen if there was a way to lower the production cost of coats? Would it then be worth it and in the best interest for Patagonia and LL Bean to increase the quantity of jackets produced? \n",
        "\n",
        "To see this effect, it is important to find the *marginal cost* of producing the jackets by taking the derivative of C_i(q_i) = c * q_i, with respect to q_i \n",
        "\n",
        "\\begin{align*}\n",
        "\\frac{\\partial C_i}{\\partial q_i} = c\n",
        "\\end{align*}\n",
        "\n",
        "We can then look to the formula for optimal quantity q_i*(q^_j) = a-c\\2b - q^j/2, and conduct comparative statics with respect to *c*, marginal cost, to see how a one unit decrease in marginal cost will effect optimal quantity. \n",
        "\n",
        "\\begin{align*}\n",
        "q_i^*(\\hat{q}_j) = \\frac{a}{2b} - \\frac{1}{2b}c - \\frac{\\hat{q}_j}{2}\\\\ \n",
        "\\frac{\\partial q_i^*(\\hat{q}_j)}{\\partial c} = -\\frac{1}{2b}\n",
        "\\end{align*}\n",
        "\n",
        "From this we can see that there is a negative relationship between cost and optimal quantity, so a decrease in the marginal cost will increase the quantity of stock both companies choose to produce, essentially addressing the shortage of inventory without affecting the profits of either company. \n",
        "\n",
        "The extent of this change will also depend on the slope of the market demand curve, b. If the demand for winter jackets has a flatter slope, this effect of a decreased cost will be more prominent, because the increased quantity will have less of an effect on the price, as clearly demonstrated in the previous example. This means, both Patagonia and LL Bean will benefit more from a greater increase in quantity/inventory, as the quantity effect will outweigh the price effect. "
      ],
      "metadata": {
        "id": "eiborYzr1kx9"
      }
    },
    {
      "cell_type": "markdown",
      "source": [
        "**Effects of Changes in the Inverse Demand Curve on Optimal Quantity** \n",
        "\n",
        "Additionally, we can use comparative statics to determine how changes in the inverse demand curve, either through a change in *a*, a consumer quantity demanded at a price of zero, or *b*, the steepness of the inverse demand curve, would affect optimal quantity. \n",
        "\n",
        "*Optimal Quantity Equation* \n",
        "\\begin{align*}\n",
        "q_i^*(\\hat{q}_j) = \\frac{1}{2b}a - \\frac{c}{2b} - \\frac{\\hat{q}_j}{2}\\\\ \n",
        "\\frac{\\partial q_i^*(\\hat{q}_j)}{\\partial c} = \\frac{1}{2b}\n",
        "\\end{align*}\n",
        "\n",
        "The optimal quantity equation helps express a positive relationship between the y-intercept of the inverse demand curve and optimal quantity. Therefore, an increase of 1 unit in *a* will increase the optimal quantity by 1/2b. In this scenario, the effect is dependent on the magnitude of the coefficient *b*. \n",
        "\n",
        "\\begin{align*}\n",
        "q_i^*(\\hat{q}_j) = (\\frac{a - c}{2} * b^{-1}) - \\frac{\\hat{q}_j}{2}\\\\ \n",
        "\\frac{\\partial q_i^*(\\hat{q}_j)}{\\partial c} = -\\frac{a - c}{2b^2}\n",
        "\\end{align*}\n",
        "\n",
        "Above illustrates a negative relationship between slope *b* and the optimal quantity. Optimal quantity is the magnitude of which is dependent on all three factors of the y-intercept, elasticity, and the cost of production. A decrease in elasticity *b* will have a greater positive effect on optimal quantitiy either when *a* is greater, or when the marginal cost *c* is lower. Furthermore, a decrease in elasticity *b* will have a greater effect at lower levels of elasticity. "
      ],
      "metadata": {
        "id": "kIxFvjCq4gTt"
      }
    },
    {
      "cell_type": "markdown",
      "source": [
        "**Conclusion** \n",
        "\n",
        "The Cournot's model helps determine the optimal quantities of two competing companies. Also, the model helps give interesting insights as to how the two firms will act in relation to one another. \n",
        "\n",
        "In this specific scenario, the Cournot's model was used to find the optimal quantity of stock each clothing company should produce given differnet levels of consumer quantity demanded, elasticty of the inverse demand curve, the cost of production, and assumptions about the behavior of the competing firm. Since both firms share a market demand curve and have identical costs, we're able to see that for any variation in the above factors, it is most beneficial for both Patagonia and LL Bean to produce at the same quantity level as each other. \n",
        "\n",
        "This can be represented as:    \n",
        "\n",
        "\\begin{align*}\n",
        "q_i^* = \\frac{a - c}{3b}\n",
        "\\end{align*}\n",
        "\n",
        "For i = x, y\n",
        "\n",
        "Additionally, we can use comparative statics to better understand where this quantity level comes from. Also, using comparative statics, we can determine why the quantity level likely would not change as the two companies continue to decide what quantity to produce in the future, unless one of the coefficients *a, b, or c* change. \n",
        "\n",
        "Even in the case where there is a shortage of stock every holiday, the two companies likely would not increase their quantity supplied. This is because the firms are already at the profit maximizing point where MR = MC. If one firm decides to increate the quantity supplied, this would result in an overall decrease in market price of winter coats. Moreover, this increase would likely result in a subsequent increase in the quantity supplied of the competing company, ultimately potentially leading to a further decrease in price level. Also, an increase in quantity supplied would lead to an overall decreased profit for both companies. \n",
        "\n",
        "Patagonia and LL Bean would choose to increase their quantity produced following an increase in the amount of jackets consumers were demanding, a decrease in the elasticity of the inverse demand curve, or a decrease in the cost of producing jackets. All of these changes increase quantity because they move the point where MR = MC to a higher quantity level. \n",
        "\n",
        "While the two companies may not have direct control over these three factors, they can use tools in marketing to impact the demand for jackets in Maine. Furthermore, one way the companies can decrease the cost of production/stock is through giving up the guarantee of all sustainable fashion. Opting for non-sustainable fashion instead may decrease the costs of labor and fabrics. On that note, one downside to this change in production is it may result in a decrease in quantity demanded. This is because the clothes being sustainable could be a factor that differentiates these two firms from others clothing companies, in terms of quality. The effectiveness of these different production strategies/ cost minimization approaches could be a very valuable follow-up study in addressing the winter jacket shortage in Freeport, ME. "
      ],
      "metadata": {
        "id": "_jm0wh8_73j2"
      }
    }
  ]
}