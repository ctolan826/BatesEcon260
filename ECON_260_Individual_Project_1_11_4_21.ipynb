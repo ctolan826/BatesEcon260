{
  "nbformat": 4,
  "nbformat_minor": 0,
  "metadata": {
    "colab": {
      "name": "ECON 260 Individual Project #1 11.4.21.ipynb",
      "provenance": [],
      "authorship_tag": "ABX9TyMuPbonmuOCdjfnTXpIF+/V",
      "include_colab_link": true
    },
    "kernelspec": {
      "name": "python3",
      "display_name": "Python 3"
    },
    "language_info": {
      "name": "python"
    }
  },
  "cells": [
    {
      "cell_type": "markdown",
      "metadata": {
        "id": "view-in-github",
        "colab_type": "text"
      },
      "source": [
        "<a href=\"https://colab.research.google.com/github/ctolan826/BatesEcon260/blob/master/ECON_260_Individual_Project_1_11_4_21.ipynb\" target=\"_parent\"><img src=\"https://colab.research.google.com/assets/colab-badge.svg\" alt=\"Open In Colab\"/></a>"
      ]
    },
    {
      "cell_type": "markdown",
      "metadata": {
        "id": "J2tcCr5rvhyX"
      },
      "source": [
        "Celia Tolan \n",
        "\n",
        "ECON 260 Intermediate Microeconomics \n",
        "\n",
        "Individual Project #1 \n",
        "\n",
        "November 4th, 2021"
      ]
    },
    {
      "cell_type": "markdown",
      "metadata": {
        "id": "cvrcovaJtyCk"
      },
      "source": [
        "**How does the optimal consumption bundle change depending on if you use the Cobb-Douglas function or CES function?**"
      ]
    },
    {
      "cell_type": "markdown",
      "metadata": {
        "id": "2fPe8FUIt1Rs"
      },
      "source": [
        "**Introduction**\n",
        "\n",
        "In 2020, the global pandemic of Covid-19 resulted in many people losing their jobs and becoming unemployed. Due to the large majority of unemployment, the government assigned stimulus checks to all citizens who lost their job and were unemployed due to Covid-19 related reasons. The purpose of the stimulus check was to be able to provide people with enough money in order to sustain themselves during the pandemic. Since people had to rely on their income via the stimulus check, many citizens needed to learn how to carefully budget their money. Consumers needed to decided how much of their money they should spend on essentials versus leisure. \n",
        "\n",
        "In this model, we will take a closer look on how consumers maximize their utility of the two things as well as how they minimize their costs. We will explore two different scenarios, one where the consumer is favoring essentials and leisure equally, and one situation where the consumer prioritizes spending their money on essentials only. \n",
        "\n",
        "There will be two functions we explore, one *Constant Elasticity of Substitution* (CES) function and one *Cobb-Douglas* (CD) function. In both scenarios, we will assume that we are looking at *one* consumers choice. For the CES function, the consumer favors essentials and leisure equally. However, for the CD function, the consumer changes their mind and only prioritizes essentials over leisure. \n",
        "\n",
        "We are exploring the different comparisons between spending money strictly on essentials or spending money on both essentials and leisure. This is because, although it may seem appealing to only spend money on essentials and save the rest, there is also a marginal utility that should be explored in regards to the relationship between leisure and essentials. Splitting money between essentials and leisure may result in consumer's having a smaller supply of essentials and needing to use the essentials more scarely. However, with spending less money on essentials, it allows the consumer's more room to spend money on leisure items like online shopping and more. With perks like television subscriptions and online shopping, splitting the budget between essentials and leisure may result in a higher marginal utility because the consumer will be more happy.\n",
        "\n",
        "In the models, essentials will be represented with *p1* & *q1* and leisure will be represented by *p2* & *q2*. *Y* will represent the stimulus check/the consumer's income. The value *0.4* is serving as our alpha, which is a parameter for how the function is defined. Finally, *U* will represent utilty. \n",
        "\n",
        "For our first model, we will be looking at a constant elasticity utility function (CES). "
      ]
    },
    {
      "cell_type": "markdown",
      "metadata": {
        "id": "_xm9Cz4Rt38H"
      },
      "source": [
        "**Solving consumers choice problem for utility maximization: CES function**"
      ]
    },
    {
      "cell_type": "markdown",
      "metadata": {
        "id": "62x5n5cEt9En"
      },
      "source": [
        "\\begin{align*}\n",
        "maxU(q_1, q_2) = (q_1^{0.4} + q_2^{0.4})^\\frac{1}{0.4}\\\\\n",
        "constraint: Y = p_1q_1 + p_2q_2\n",
        "\\end{align*}"
      ]
    },
    {
      "cell_type": "markdown",
      "metadata": {
        "id": "lvXjU5iAt_0v"
      },
      "source": [
        "**Lagrangian:**"
      ]
    },
    {
      "cell_type": "markdown",
      "metadata": {
        "id": "DvYtMoTVuDCR"
      },
      "source": [
        "\\begin{align*} \n",
        "\\mathcal{L} = U(q_1, q_2) + \\lambda(Y - p_1q_1 + p_2q_2)\\\\\n",
        "\\mathcal{L} = (q_1^{0.4} + q_2^{0.4})^\\frac{1}{0.4} + \\lambda(Y - p_1q_1 + p_2q_2)\n",
        "\\end{align*}"
      ]
    },
    {
      "cell_type": "markdown",
      "metadata": {
        "id": "Gzv-bU92uGfN"
      },
      "source": [
        "**Solve for FOC's:**"
      ]
    },
    {
      "cell_type": "markdown",
      "metadata": {
        "id": "FJkaDExquJvb"
      },
      "source": [
        "\\begin{align*}\n",
        "\\frac{\\partial \\mathcal{L}}{\\partial q_1} = q_1^{-0.6}(q_1^.4 + q_1^.4)^{\\frac{1}{0.4}-1} - \\lambda p_1 = 0 \\\\\n",
        "\\frac{\\partial \\mathcal{L}}{\\partial q_2} = q_2^{-0.6}(q_2^.4 + q_2^.4)^{\\frac{1}{0.4}-1} - \\lambda p_2 = 0 \\\\\n",
        "\\frac{\\partial \\mathcal{L}}{\\partial \\lambda} = Y - p_1q_1 - p_2q_2 = 0\n",
        "\\end{align*}"
      ]
    },
    {
      "cell_type": "markdown",
      "metadata": {
        "id": "O8y0D531uMKo"
      },
      "source": [
        "**Solve for q2 by dividing the first two FOC's:**"
      ]
    },
    {
      "cell_type": "markdown",
      "metadata": {
        "id": "Sbbi3R2KuQol"
      },
      "source": [
        "\\begin{align*}\n",
        "(\\frac{q_2}{q_1})^{0.6} = (\\frac{p_1}{p_2}) \\\\\n",
        "\\frac{q_2}{q_1} = (\\frac{p_1}{p_2})^\\frac{1}{0.6} \\\\ \n",
        "q_2 = (\\frac{p_1}{p_2})^{\\frac{10}{6}} q_1\n",
        "\\end{align*}"
      ]
    },
    {
      "cell_type": "markdown",
      "metadata": {
        "id": "QjM_Ab2huTuD"
      },
      "source": [
        "**Solve for q1*:**"
      ]
    },
    {
      "cell_type": "markdown",
      "metadata": {
        "id": "OQe6Yg8zuWY8"
      },
      "source": [
        "\\begin{align*}\n",
        "Y - p_1q_1 - p_2(\\frac{p_1}{p_2})^\\frac{10}{6} q_1 = 0 \\\\\n",
        "p_1q_1 + p_2 (\\frac{p_1}{p_2})^\\frac{10}{6} q_1 = Y \\\\\n",
        "(p_1 + p_1^\\frac{10}{6} p_2^\\frac{-4}{6})q_1 = Y \\\\\n",
        "q_1* = Y \\frac{1}{p_1 + p_1^\\frac{10}{6}p_2^\\frac{-4}{6}} \n",
        "\\end{align*}"
      ]
    },
    {
      "cell_type": "markdown",
      "metadata": {
        "id": "jjo8gIr6uY0G"
      },
      "source": [
        "**Solve for q2*:**"
      ]
    },
    {
      "cell_type": "markdown",
      "metadata": {
        "id": "H8TNx5e_ubzw"
      },
      "source": [
        "\\begin{align*}\n",
        "q_2 = (\\frac{p_1}{p_2})^\\frac{10}{6}q_1 \\\\\n",
        "q_2* = \\frac{1}{p_1 + p_1^\\frac{10}{6}p_2^\\frac{-4}{6}}Y (\\frac{p_1}{p_2})^\\frac{10}{6} \\\\\n",
        "q_2* = \\frac{1}{p_2 + p_2^\\frac{10}{6}p_1^\\frac{-4}{6}}Y\n",
        "\\end{align*}"
      ]
    },
    {
      "cell_type": "markdown",
      "metadata": {
        "id": "JLdJxoRwueuB"
      },
      "source": [
        "From this we can now tell how changes in *p1*, *p2*, and *Y* affect *q1** by using comparative statics \n",
        "\n",
        "Here, we are using a CES production function to model the choice of prioritizing essentials or leisure. We use the CES function to maximize output of marginal utility. From the CES function, we can determine how much of the budget should be allocated towards essentials and how much should be allocated towards leisure in order to get the opitmal utility. \n",
        "\n",
        "From the calculations above, we can better understand the effect now. As the price of essentials increases, the optimal quantity of essentials decreases. This makes sense because the more a consumer needs to pay for an item, the less happy the consumer will be to spend the money and ultimately have the item.\n",
        "\n",
        "However, as the price of leisure increases, the optimal quantity of essentials increases. This is because if leisure begins to become more expensive, leisure will become less appealing and buying strictly essentials will become more appealing. \n",
        "\n",
        "Finally, as income increases, the optimal quantity of essentials again increases. This makes sense because if people are given a larger stimulus check/budget, they will have more money to spend on essentials. We do not need to analyze q2* because the results are very similar to q1*. \n",
        "\n",
        "One nice thing about the CES utlity function is it is a more general function which makes it very easy to use for estimation and approximations. Additionally, the solutions and outcomes are more realistic than other functions. Also, the CES function covers all types of returns and takes into account a number of parameters. Furhtermore, is it allows the equilibirum point of our quantities to vary with changes in parameters of other goods that relate through the constraint. Without having to solve the Lagrangian, you are able to use the CES function to get similar results for what solution each good will be.  \n",
        "\n",
        "Although there are many pros to the CES function, there are some limitations. One limitation is that we cannot have our goods related by another endogenous variable, otherwise we would have to actually solve the Lagrangian."
      ]
    },
    {
      "cell_type": "markdown",
      "metadata": {
        "id": "rWpzEwCrukgM"
      },
      "source": [
        "Now, let's look at the consumer's optimal choice problem with a focus on cost minimization. Let's assume the consumer has found themselves prioritizing essentials more recently. For this, we are going to use the Cobb-Douglas utility function."
      ]
    },
    {
      "cell_type": "markdown",
      "metadata": {
        "id": "Trxni8BIunvP"
      },
      "source": [
        "**Here we have our function: CD function**"
      ]
    },
    {
      "cell_type": "markdown",
      "metadata": {
        "id": "M4yUjahFup8y"
      },
      "source": [
        "\\begin{align*}\n",
        "min  U(q_1, q_2) = q_1^{0.6} + q_2^{0.4}\\\\\n",
        "s. t. U = q_1^{0.6}q_2^{0.4} \\\\\n",
        "\\end{align*}"
      ]
    },
    {
      "cell_type": "markdown",
      "metadata": {
        "id": "qJ8NTtIuusQL"
      },
      "source": [
        "**Lagrangian:**"
      ]
    },
    {
      "cell_type": "markdown",
      "metadata": {
        "id": "UgD6gqWzuu7t"
      },
      "source": [
        "\\begin{align*}\n",
        "\\mathcal{L} = p_1q_1 + p_2q_2 + \\lambda(U - q_1^{0.6}q_2^{0.4})\\\\\n",
        "\\end{align*}"
      ]
    },
    {
      "cell_type": "markdown",
      "metadata": {
        "id": "mRP8_N3suxoA"
      },
      "source": [
        "**FOC's:**"
      ]
    },
    {
      "cell_type": "markdown",
      "metadata": {
        "id": "Ud0k5Mjgu0SR"
      },
      "source": [
        "\\begin{align*}\n",
        "\\frac{\\partial \\mathcal{L}}{\\partial q_1} = p_1 - 0.6 \\lambda q_1^{-0.4}q_2^{0.4} = 0 \\\\\n",
        "\\frac{\\partial \\mathcal{L}}{\\partial q_2} = p_2 - 0.4 \\lambda q_1^{0.6} q_2^{-0.6} = 0 \\\\\n",
        "\\frac{\\partial \\mathcal{L}}{\\partial \\lambda} = U - q_1^{0.6}q_2^{0.4} = 0 \n",
        "\\end{align*}"
      ]
    },
    {
      "cell_type": "markdown",
      "metadata": {
        "id": "z8MqDd0ou2ks"
      },
      "source": [
        "**Solving for q1 by dividing our first two FOC's:**"
      ]
    },
    {
      "cell_type": "markdown",
      "metadata": {
        "id": "2qCEYEDRu5yV"
      },
      "source": [
        "\\begin{align*}\n",
        "MRT = MRS \\\\\n",
        "\\frac{p_1}{p_2} = \\frac{-0.6 \\lambda q_1^{-0.4}q_2^{0.4}}{-0.4 \\lambda q_1^{0.6} q_2^{-0.6}} \\\\\n",
        "\\frac{p_1}{p_2} = \\frac{0.6q_2}{0.4q_1} \\\\ \n",
        "q_1 = \\frac{0.6p_2}{0.4p_1}q_2\n",
        "\\end{align*}\n"
      ]
    },
    {
      "cell_type": "markdown",
      "metadata": {
        "id": "0ZsyKTcvu8gU"
      },
      "source": [
        "**Solving for q2*:**"
      ]
    },
    {
      "cell_type": "markdown",
      "metadata": {
        "id": "P0sCZQX8u_QD"
      },
      "source": [
        "\\begin{align*}\n",
        "(\\frac{0.6p_2}{0.4p_1}q_2)^{0.6}q_2^{0.4} = U \\\\\n",
        "(\\frac{0.6p_2}{0.4p_1})^{0.6}q_2 = U \\\\\n",
        "  q_2* = (\\frac{0.4p_1}{0.6p_2})^{0.6}U\n",
        "\\end{align*}"
      ]
    },
    {
      "cell_type": "markdown",
      "metadata": {
        "id": "3OzLqAprvCDl"
      },
      "source": [
        "**Solving for q1*:**"
      ]
    },
    {
      "cell_type": "markdown",
      "metadata": {
        "id": "H_z4tyR4vFPM"
      },
      "source": [
        "\\begin{align*}\n",
        "q_1 = \\frac{0.6p_2}{0.4p_1} (\\frac{0.4p_1}{0.6p_2})^{0.6}U \\\\\n",
        "=   \\frac{0.6p_2}{0.4p_1}(\\frac{0.6p_2}{0.4p_1})^{-0.6}U \\\\\n",
        "q_1* = (\\frac{0.6p_2}{0.4p_1})^{0.4}U\n",
        "\\end{align*}"
      ]
    },
    {
      "cell_type": "markdown",
      "metadata": {
        "id": "MBDAGilbvI2t"
      },
      "source": [
        "**Now we plug in our optimal consumption bundle to get the consumers expenditure function:**"
      ]
    },
    {
      "cell_type": "markdown",
      "metadata": {
        "id": "pmGcXKyovLof"
      },
      "source": [
        "\\begin{align*}\n",
        "E(p_1,p_2,U) = p_1U(\\frac{0.6p_1}{0.4p_2})^{0.4} + p_2U(\\frac{0.4p_1}{0.6p_2})^{0.6} \\\\ \n",
        "= (\\frac{0.6}{0.4})^{0.4} p_2^{0.4} p_1^{0.6} + (\\frac{0.4}{0.6})^{0.6} p_1^{0.6}p_2^{0.4} U \\\\ \n",
        "= ((\\frac{0.6}{0.4})^{0.4} + (\\frac{0.4}{0.6})^{0.6})p_1^{0.6}p_2^{0.4} U \\\\\n",
        "= \\frac{0.4}{0.6}^{0.6} ((\\frac{0.6}{0.4})^{0.4} + (\\frac{0.4}{0.6})^{-0.6} + 1) p_1^{0.6}p_2^{0.4} U \\\\\n",
        "= \\frac{0.4}{0.6}^{0.6} ((\\frac{0.6}{0.4})^{0.4} + (\\frac{0.6}{0.4})^{0.6} + 1)p_1^{0.6}p_2^{0.4}U \\\\ \n",
        "= \\frac{0.4}{0.6}^{0.6} ( \\frac{0.6}{0.4} +1)p_1^{0.6}p_2^{0.4} U \\\\ \n",
        "= \\frac{0.4}{0.6}^{0.6} \\frac{10}{4} p_1^{0.6}p_2^{0.4} U \\\\ \n",
        "= (\\frac{p_1}{0.6})^{0.6} (\\frac{p_2}{0.4})^{0.4}U\n",
        "\\end{align*}"
      ]
    },
    {
      "cell_type": "markdown",
      "metadata": {
        "id": "6GayqmHAvPou"
      },
      "source": [
        "**Using comparative statics, we see how changes in p1, p2, and U change H1. Note that H1 = q1* and H2 = q2***"
      ]
    },
    {
      "cell_type": "markdown",
      "metadata": {
        "id": "2rJL0J0avS67"
      },
      "source": [
        "\\begin{align*}\n",
        "\\frac{\\partial H_1 }{\\partial p_1} = 0.4(\\frac{0.6p_2}{0.4p_1})^{-0.6} U * (\\frac{-0.6p_2}{0.4p_1}) < 0 \\\\\n",
        "\\frac{\\partial H_1}{\\partial p_2} = 0.4(\\frac{0.6p_2}{0.4p_1})^{-0.6}U * (\\frac{0.6p_2}{0.4p_1}) > 0 \\\\\n",
        "\\frac{\\partial H_1}{\\partial U} = (\\frac{0.6p_2}{0.4p_1}) > 0 \n",
        "\\end{align*}"
      ]
    },
    {
      "cell_type": "markdown",
      "metadata": {
        "id": "b4_5PKYqvVa3"
      },
      "source": [
        "Based on the calculations above, if the price of essentials increases, the optimal quantity of essentials will decrease. This makes sense because if essentials become more expensive and consumers need to pay more, they will be less satisfied with the product than before when the product was cheaper. Also, as the price of leisure increases, the optimal quanitity of essentials increases. This makes sense because if leisure increases in price, consumers will be more likely and willing to spend less of their money and leisure and more of their money on essentials. The optimal quantity of essentials will increase because consumers will be saving money by buying more essentials which will make them feel happier and more satisfied with the product. Finally, if U increases, the optimal quantity of essentials increases. This makes sense because if the overall satisfaction of consumers increases, then the optimal quantity of essentials is also going to increase by default. \n",
        "\n",
        "The CD function is useful because it can be fitted to time series analysis and cross section anaylsis. Additionally, when looking at the function graphically, since it is a linear function, we are able to clearly see what is happening in the function. \n",
        "\n",
        "On the other hand there are some limitations to the CD function. First of all, the function only includes two factors and neglects all other inputs. This means, when the price changes in one good, the CD function does not include any information about the change in quantity of another good. \n"
      ]
    },
    {
      "cell_type": "markdown",
      "metadata": {
        "id": "JXa9vQXMvYBI"
      },
      "source": [
        "**Conclusion** \n",
        "\n",
        "Overall, the optimal consumption bundle changes depending on if you use CES or CD. From the model, we can see with the CES function, when the consumer has the same elasticity of demand for both products, the consumer will purchase the same amount of leisure and essentials to get their optimal utility. However, in the CD function, when the consumer prefers essentials, the consumer is more likely to buy a greater quantity of essentials to minimize their cost unless the price of essentials increases. With the CD, if the cost increases, then they will decrease their consumption of essentials slightly and instead increase their consumption of leisure. \n",
        "\n",
        "With CES, it demonstrates how to reach optimal utiltiy when you are trying to essentially balance two different items, in this case *essentials* and *leisure*. With CES, we are able to see how the consumer prioritizes essentials, but still also spends money on leisure. The CES function helps the consumer balance the two items to and to know how much of the budget to spend on each items to get the optimal utility. \n",
        "\n",
        "On the other hand, with the CD function, we focus on one item and try to interpret how much of the budget we should spend on the item until the marginal cost eventually becomes greater than the marginal utility. \n",
        "\n",
        "In conclusion, depending on the situation and scenario, both CES and CD have there pros and con. If you are trying to look at multiple variables, it is better to use CES; however, if you are trying to simply focus on one to two variables, it is better to use CD function. In the scenarios listed above, when trying to include and compare two goods, the CES function seemed to be more beneficial, but when only focusing on one, the CD seemed more detailed and helpful. With the CES function, you will find the optimal consumption bundle when comparing more than one good. With CD function, you will find the optimal consumption bundle when comparing and focusing in on one good. "
      ]
    }
  ]
}